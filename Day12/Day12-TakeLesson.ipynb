{
 "cells": [
  {
   "cell_type": "markdown",
   "metadata": {},
   "source": [
    "1900+n这n年中 13号落在 周一、、、周日七天的次数\n",
    "n = 1\n",
    "1 2 3 4 5 6 7 8 9 10 11 12 13 14 \n",
    " \n",
    "1 2 3 4 5 6 7 1 2 3 4  5  6 7\n",
    "\n",
    "分析这个题\n",
    "\n",
    "这个月份 有多少天 四种\n",
    "- 31 【1 3 5 7 8 10 12】\n",
    "- 30 【 4，6，9，11】\n",
    "- 29 【2】差在年份上\n",
    "- 28 【2】\n",
    "\n",
    "闰年 29 天 （整除4  ，若年份为100的倍数，则其必须为400的倍数）\n",
    "平年 28  （其余）"
   ]
  },
  {
   "cell_type": "code",
   "execution_count": 20,
   "metadata": {},
   "outputs": [
    {
     "data": {
      "text/plain": [
       "[34, 33, 35, 35, 34, 36, 33]"
      ]
     },
     "execution_count": 20,
     "metadata": {},
     "output_type": "execute_result"
    }
   ],
   "source": [
    "count = 0\n",
    "day_30 = [4,6,9,11]\n",
    "list_count = [0] * 7\n",
    "for i in range(1900,1900+20):\n",
    "    for m in range(1,13):\n",
    "        if m in day_30:\n",
    "            for day in range(1,31):\n",
    "                count = count % 7 + 1\n",
    "                #print(count)\n",
    "                if day == 13:\n",
    "                    list_count[count-1] += 1\n",
    "                    #print(list_count)\n",
    "        elif m==2:\n",
    "            if (i%4 == 0 and i%100 !=0) or i%400==0:\n",
    "                for day in range(1,30):\n",
    "                    count = count % 7 + 1\n",
    "                    #print(count)\n",
    "                    if day == 13:\n",
    "                        list_count[count-1] += 1\n",
    "                        #print(list_count)\n",
    "            else:\n",
    "                for day in range(1,29):\n",
    "                    count = count % 7 + 1\n",
    "                    #print(count)\n",
    "                    if day == 13:\n",
    "                        list_count[count-1] += 1\n",
    "                        #print(list_count)\n",
    "        else:\n",
    "            for day in range(1,32):\n",
    "                count = count % 7 + 1\n",
    "                #print(count)\n",
    "                if day == 13:\n",
    "                    list_count[count-1] += 1\n",
    "                    #print(list_count)\n",
    "                    \n",
    "list_count"
   ]
  },
  {
   "cell_type": "code",
   "execution_count": 36,
   "metadata": {},
   "outputs": [
    {
     "name": "stdout",
     "output_type": "stream",
     "text": [
      "1904\n",
      "1908\n",
      "1912\n",
      "1916\n"
     ]
    }
   ],
   "source": [
    "###\n",
    "week_list = [0]*7 ## [0,0,0,0,0,0,0]\n",
    "count = 0 \n",
    "for year in range(1900,1920): ##走完了1900年\n",
    "    for month in range(1,13):\n",
    "        if month in [1,3,5,7,8,10,12]:\n",
    "            for day in range(1,32):\n",
    "                count = count % 7 + 1\n",
    "                if day==13:\n",
    "                    #print(count)\n",
    "                    week_list[count-1] = week_list[count-1] + 1\n",
    "                    #week_list[count-1] += 1\n",
    "            ##就应该有31天\n",
    "            \n",
    "        elif month in [4,6,9,11]:\n",
    "           # print(month)\n",
    "            for day in range(1,31):\n",
    "                count = count & 7 + 1 \n",
    "                if day==13:\n",
    "                    week_list[count-1] = week_list[count-1] +1\n",
    "            ##应该有30天\n",
    "            \n",
    "        else:\n",
    "            #print(month)\n",
    "            #if (year%4==0) and (year%100==0 and year%400==0): ##就处于闰年\n",
    "                \n",
    "            if(year%4==0 and year%100!=0) or year%400==0:\n",
    "                print(year)\n",
    "                for day in range(1,30):\n",
    "                    count = count % 7 + 1\n",
    "                    if day==13:\n",
    "                        week_list[count-1] = week_list[count-1] +1\n",
    "                    \n",
    "            \n",
    "            \n",
    "            else: ##就处于平年\n",
    "                for day in range(1,29):\n",
    "                    count = count%7+1\n",
    "                    if day ==13:\n",
    "                        week_list[count-1]=week_list[count-1] +1\n",
    "                \n",
    "    "
   ]
  },
  {
   "cell_type": "code",
   "execution_count": 33,
   "metadata": {},
   "outputs": [
    {
     "data": {
      "text/plain": [
       "300"
      ]
     },
     "execution_count": 33,
     "metadata": {},
     "output_type": "execute_result"
    }
   ],
   "source": [
    "1900 % 400"
   ]
  },
  {
   "cell_type": "code",
   "execution_count": null,
   "metadata": {},
   "outputs": [],
   "source": [
    "if(True and False) or (True or False) and (True and True):\n",
    "    "
   ]
  },
  {
   "cell_type": "code",
   "execution_count": 37,
   "metadata": {},
   "outputs": [
    {
     "data": {
      "text/plain": [
       "True"
      ]
     },
     "execution_count": 37,
     "metadata": {},
     "output_type": "execute_result"
    }
   ],
   "source": [
    "False or True and True"
   ]
  },
  {
   "cell_type": "code",
   "execution_count": null,
   "metadata": {},
   "outputs": [],
   "source": [
    "##"
   ]
  },
  {
   "cell_type": "code",
   "execution_count": 23,
   "metadata": {},
   "outputs": [
    {
     "name": "stdout",
     "output_type": "stream",
     "text": [
      "2\n",
      "4\n"
     ]
    }
   ],
   "source": [
    "if (True and False):\n",
    "    print(1)\n",
    "    \n",
    "if (True or False):\n",
    "    print(2)\n",
    "    \n",
    "if (False and False):\n",
    "    print(3)\n",
    "    \n",
    "if (True and True):\n",
    "    print(4)"
   ]
  },
  {
   "cell_type": "code",
   "execution_count": null,
   "metadata": {},
   "outputs": [],
   "source": [
    "if(m>1):\n",
    "    fdaaf\n",
    "    "
   ]
  },
  {
   "cell_type": "code",
   "execution_count": 27,
   "metadata": {},
   "outputs": [
    {
     "data": {
      "text/plain": [
       "True"
      ]
     },
     "execution_count": 27,
     "metadata": {},
     "output_type": "execute_result"
    }
   ],
   "source": [
    "True and True and True and True"
   ]
  },
  {
   "cell_type": "code",
   "execution_count": 31,
   "metadata": {},
   "outputs": [
    {
     "data": {
      "text/plain": [
       "True"
      ]
     },
     "execution_count": 31,
     "metadata": {},
     "output_type": "execute_result"
    }
   ],
   "source": [
    "True or False or False or False"
   ]
  },
  {
   "cell_type": "code",
   "execution_count": null,
   "metadata": {},
   "outputs": [],
   "source": [
    "##and 并且  全真才真  一假则假\n",
    "if  (() and ()):\n",
    "    \n",
    "##or 一真则真 全假才假\n",
    "\n",
    "\n",
    "##优先级 and > or"
   ]
  },
  {
   "cell_type": "code",
   "execution_count": null,
   "metadata": {},
   "outputs": [],
   "source": [
    "5 + 2*3"
   ]
  },
  {
   "cell_type": "code",
   "execution_count": null,
   "metadata": {},
   "outputs": [],
   "source": [
    "True or True and False"
   ]
  },
  {
   "cell_type": "code",
   "execution_count": 17,
   "metadata": {},
   "outputs": [
    {
     "data": {
      "text/plain": [
       "[0, 41, 0, 0, 34, 85, 80]"
      ]
     },
     "execution_count": 17,
     "metadata": {},
     "output_type": "execute_result"
    }
   ],
   "source": [
    "week_list"
   ]
  },
  {
   "cell_type": "code",
   "execution_count": 7,
   "metadata": {},
   "outputs": [
    {
     "data": {
      "text/plain": [
       "4.75"
      ]
     },
     "execution_count": 7,
     "metadata": {},
     "output_type": "execute_result"
    }
   ],
   "source": [
    "1900 / 400"
   ]
  },
  {
   "cell_type": "code",
   "execution_count": 10,
   "metadata": {},
   "outputs": [
    {
     "data": {
      "text/plain": [
       "[0, 41, 0, 0, 34, 85, 80]"
      ]
     },
     "execution_count": 10,
     "metadata": {},
     "output_type": "execute_result"
    }
   ],
   "source": [
    "week_list"
   ]
  },
  {
   "cell_type": "code",
   "execution_count": null,
   "metadata": {},
   "outputs": [],
   "source": []
  },
  {
   "cell_type": "markdown",
   "metadata": {},
   "source": [
    "## 第二题\n"
   ]
  },
  {
   "cell_type": "code",
   "execution_count": 42,
   "metadata": {},
   "outputs": [],
   "source": [
    "one = [100,2,3,4,5,7]\n",
    "two = [100,102,105,109,114,121] ##算当前下表及之前的数的和"
   ]
  },
  {
   "cell_type": "code",
   "execution_count": 50,
   "metadata": {},
   "outputs": [],
   "source": [
    "##直接的方法 便利\n",
    "def fun(list_1):\n",
    "    list_2 = [0]*len(list_1)\n",
    "    for i in range(len(list_1)):\n",
    "        sum_1 = 0\n",
    "        for j in range(0,i+1):\n",
    "            sum_1 += list_1[j]\n",
    "            #list_2[i] \n",
    "        list_2[i] = sum_1\n",
    "    return list_2\n",
    "        \n",
    "    \n",
    "##思路二  用List统计出来的值  去加上当前下标的值 无需做统计"
   ]
  },
  {
   "cell_type": "code",
   "execution_count": 51,
   "metadata": {},
   "outputs": [
    {
     "data": {
      "text/plain": [
       "[100, 102, 105, 109, 114, 121]"
      ]
     },
     "execution_count": 51,
     "metadata": {},
     "output_type": "execute_result"
    }
   ],
   "source": [
    "fun(one)"
   ]
  },
  {
   "cell_type": "code",
   "execution_count": null,
   "metadata": {},
   "outputs": [],
   "source": [
    "[0,0,0,0,0,0,0,0,0,]"
   ]
  },
  {
   "cell_type": "code",
   "execution_count": null,
   "metadata": {},
   "outputs": [],
   "source": [
    "作业\n",
    "1.周一 、、周日 13号  那个题找到你自己的错误，看看哪里不对\n",
    "2.动态数组和   思路二 自己写  写完之后自己提交上\n",
    "3."
   ]
  }
 ],
 "metadata": {
  "kernelspec": {
   "display_name": "Python 3",
   "language": "python",
   "name": "python3"
  },
  "language_info": {
   "codemirror_mode": {
    "name": "ipython",
    "version": 3
   },
   "file_extension": ".py",
   "mimetype": "text/x-python",
   "name": "python",
   "nbconvert_exporter": "python",
   "pygments_lexer": "ipython3",
   "version": "3.7.6"
  }
 },
 "nbformat": 4,
 "nbformat_minor": 4
}
