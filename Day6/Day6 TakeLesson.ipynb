{
 "cells": [
  {
   "cell_type": "code",
   "execution_count": 2,
   "metadata": {},
   "outputs": [
    {
     "data": {
      "text/plain": [
       "'C:\\\\Users\\\\hp\\\\Take Lesson'"
      ]
     },
     "execution_count": 2,
     "metadata": {},
     "output_type": "execute_result"
    }
   ],
   "source": [
    "import os\n",
    "os.getcwd()"
   ]
  },
  {
   "cell_type": "code",
   "execution_count": null,
   "metadata": {},
   "outputs": [],
   "source": [
    "##相对路径下读取问文件\n",
    "with open('haha.txt','r') as f:\n",
    "    f.readlines("
   ]
  },
  {
   "cell_type": "code",
   "execution_count": 6,
   "metadata": {},
   "outputs": [],
   "source": [
    "##绝对路径下去读取文件\n",
    "import pandas as pd\n",
    "data1=pd.read_excel(r'C:\\徐毅铭\\微信\\WeChat Files\\wxid_m12tglsh6tqp22\\FileStorage\\File\\2020-06\\四省成交金额.xlsx')\n",
    "data2=pd.read_excel(r'C:\\徐毅铭\\微信\\WeChat Files\\wxid_m12tglsh6tqp22\\FileStorage\\File\\2020-06\\四省商品比例.xlsx')\n"
   ]
  },
  {
   "cell_type": "code",
   "execution_count": 7,
   "metadata": {
    "scrolled": true
   },
   "outputs": [
    {
     "data": {
      "text/html": [
       "<div>\n",
       "<style scoped>\n",
       "    .dataframe tbody tr th:only-of-type {\n",
       "        vertical-align: middle;\n",
       "    }\n",
       "\n",
       "    .dataframe tbody tr th {\n",
       "        vertical-align: top;\n",
       "    }\n",
       "\n",
       "    .dataframe thead th {\n",
       "        text-align: right;\n",
       "    }\n",
       "</style>\n",
       "<table border=\"1\" class=\"dataframe\">\n",
       "  <thead>\n",
       "    <tr style=\"text-align: right;\">\n",
       "      <th></th>\n",
       "      <th>用户名</th>\n",
       "      <th>年龄</th>\n",
       "      <th>家居家电</th>\n",
       "      <th>美妆</th>\n",
       "      <th>服装</th>\n",
       "      <th>食品</th>\n",
       "      <th>成交总金额</th>\n",
       "      <th>省份</th>\n",
       "      <th>成交时间</th>\n",
       "    </tr>\n",
       "  </thead>\n",
       "  <tbody>\n",
       "    <tr>\n",
       "      <th>0</th>\n",
       "      <td>小胡</td>\n",
       "      <td>35</td>\n",
       "      <td>140</td>\n",
       "      <td>0.0</td>\n",
       "      <td>580</td>\n",
       "      <td>160</td>\n",
       "      <td>880</td>\n",
       "      <td>湖南省</td>\n",
       "      <td>11.11</td>\n",
       "    </tr>\n",
       "    <tr>\n",
       "      <th>1</th>\n",
       "      <td>小楠</td>\n",
       "      <td>19</td>\n",
       "      <td>40</td>\n",
       "      <td>120.0</td>\n",
       "      <td>230</td>\n",
       "      <td>90</td>\n",
       "      <td>480</td>\n",
       "      <td>湖南省</td>\n",
       "      <td>11.13</td>\n",
       "    </tr>\n",
       "    <tr>\n",
       "      <th>2</th>\n",
       "      <td>小刘</td>\n",
       "      <td>27</td>\n",
       "      <td>30</td>\n",
       "      <td>340.0</td>\n",
       "      <td>690</td>\n",
       "      <td>230</td>\n",
       "      <td>1290</td>\n",
       "      <td>湖南省</td>\n",
       "      <td>11.15</td>\n",
       "    </tr>\n",
       "    <tr>\n",
       "      <th>3</th>\n",
       "      <td>小赵</td>\n",
       "      <td>23</td>\n",
       "      <td>0</td>\n",
       "      <td>NaN</td>\n",
       "      <td>320</td>\n",
       "      <td>190</td>\n",
       "      <td>870</td>\n",
       "      <td>湖南省</td>\n",
       "      <td>11.11</td>\n",
       "    </tr>\n",
       "    <tr>\n",
       "      <th>4</th>\n",
       "      <td>小孙</td>\n",
       "      <td>43</td>\n",
       "      <td>120</td>\n",
       "      <td>260.0</td>\n",
       "      <td>450</td>\n",
       "      <td>140</td>\n",
       "      <td>970</td>\n",
       "      <td>湖南省</td>\n",
       "      <td>11.12</td>\n",
       "    </tr>\n",
       "    <tr>\n",
       "      <th>5</th>\n",
       "      <td>小珊</td>\n",
       "      <td>24</td>\n",
       "      <td>50</td>\n",
       "      <td>540.0</td>\n",
       "      <td>790</td>\n",
       "      <td>180</td>\n",
       "      <td>1560</td>\n",
       "      <td>山东省</td>\n",
       "      <td>11.14</td>\n",
       "    </tr>\n",
       "    <tr>\n",
       "      <th>6</th>\n",
       "      <td>小东</td>\n",
       "      <td>42</td>\n",
       "      <td>340</td>\n",
       "      <td>230.0</td>\n",
       "      <td>450</td>\n",
       "      <td>0</td>\n",
       "      <td>1120</td>\n",
       "      <td>山东省</td>\n",
       "      <td>11.14</td>\n",
       "    </tr>\n",
       "    <tr>\n",
       "      <th>7</th>\n",
       "      <td>小李</td>\n",
       "      <td>28</td>\n",
       "      <td>1210</td>\n",
       "      <td>0.0</td>\n",
       "      <td>960</td>\n",
       "      <td>250</td>\n",
       "      <td>2420</td>\n",
       "      <td>山东省</td>\n",
       "      <td>11.13</td>\n",
       "    </tr>\n",
       "    <tr>\n",
       "      <th>8</th>\n",
       "      <td>小王</td>\n",
       "      <td>25</td>\n",
       "      <td>130</td>\n",
       "      <td>340.0</td>\n",
       "      <td>650</td>\n",
       "      <td>230</td>\n",
       "      <td>1350</td>\n",
       "      <td>山东省</td>\n",
       "      <td>11.11</td>\n",
       "    </tr>\n",
       "    <tr>\n",
       "      <th>9</th>\n",
       "      <td>小张</td>\n",
       "      <td>18</td>\n",
       "      <td>100</td>\n",
       "      <td>240.0</td>\n",
       "      <td>290</td>\n",
       "      <td>180</td>\n",
       "      <td>810</td>\n",
       "      <td>山东省</td>\n",
       "      <td>11.13</td>\n",
       "    </tr>\n",
       "    <tr>\n",
       "      <th>10</th>\n",
       "      <td>小杨</td>\n",
       "      <td>23</td>\n",
       "      <td>110</td>\n",
       "      <td>270.0</td>\n",
       "      <td>190</td>\n",
       "      <td>140</td>\n",
       "      <td>710</td>\n",
       "      <td>湖北省</td>\n",
       "      <td>11.12</td>\n",
       "    </tr>\n",
       "    <tr>\n",
       "      <th>11</th>\n",
       "      <td>小千</td>\n",
       "      <td>19</td>\n",
       "      <td>80</td>\n",
       "      <td>120.0</td>\n",
       "      <td>200</td>\n",
       "      <td>130</td>\n",
       "      <td>530</td>\n",
       "      <td>湖北省</td>\n",
       "      <td>11.13</td>\n",
       "    </tr>\n",
       "    <tr>\n",
       "      <th>12</th>\n",
       "      <td>小西</td>\n",
       "      <td>34</td>\n",
       "      <td>0</td>\n",
       "      <td>320.0</td>\n",
       "      <td>210</td>\n",
       "      <td>180</td>\n",
       "      <td>710</td>\n",
       "      <td>湖北省</td>\n",
       "      <td>11.11</td>\n",
       "    </tr>\n",
       "    <tr>\n",
       "      <th>13</th>\n",
       "      <td>小胡</td>\n",
       "      <td>46</td>\n",
       "      <td>220</td>\n",
       "      <td>140.0</td>\n",
       "      <td>350</td>\n",
       "      <td>130</td>\n",
       "      <td>840</td>\n",
       "      <td>湖北省</td>\n",
       "      <td>11.11</td>\n",
       "    </tr>\n",
       "    <tr>\n",
       "      <th>14</th>\n",
       "      <td>小虎</td>\n",
       "      <td>28</td>\n",
       "      <td>100</td>\n",
       "      <td>230.0</td>\n",
       "      <td>430</td>\n",
       "      <td>120</td>\n",
       "      <td>880</td>\n",
       "      <td>湖北省</td>\n",
       "      <td>11.15</td>\n",
       "    </tr>\n",
       "    <tr>\n",
       "      <th>15</th>\n",
       "      <td>小云</td>\n",
       "      <td>20</td>\n",
       "      <td>250</td>\n",
       "      <td>180.0</td>\n",
       "      <td>240</td>\n",
       "      <td>120</td>\n",
       "      <td>790</td>\n",
       "      <td>云南省</td>\n",
       "      <td>11.11</td>\n",
       "    </tr>\n",
       "    <tr>\n",
       "      <th>16</th>\n",
       "      <td>小南</td>\n",
       "      <td>36</td>\n",
       "      <td>50</td>\n",
       "      <td>100.0</td>\n",
       "      <td>90</td>\n",
       "      <td>80</td>\n",
       "      <td>320</td>\n",
       "      <td>云南省</td>\n",
       "      <td>11.12</td>\n",
       "    </tr>\n",
       "    <tr>\n",
       "      <th>17</th>\n",
       "      <td>小周</td>\n",
       "      <td>39</td>\n",
       "      <td>160</td>\n",
       "      <td>100.0</td>\n",
       "      <td>90</td>\n",
       "      <td>100</td>\n",
       "      <td>450</td>\n",
       "      <td>云南省</td>\n",
       "      <td>11.11</td>\n",
       "    </tr>\n",
       "    <tr>\n",
       "      <th>18</th>\n",
       "      <td>小钱</td>\n",
       "      <td>25</td>\n",
       "      <td>110</td>\n",
       "      <td>170.0</td>\n",
       "      <td>350</td>\n",
       "      <td>240</td>\n",
       "      <td>870</td>\n",
       "      <td>云南省</td>\n",
       "      <td>11.15</td>\n",
       "    </tr>\n",
       "    <tr>\n",
       "      <th>19</th>\n",
       "      <td>小吴</td>\n",
       "      <td>43</td>\n",
       "      <td>150</td>\n",
       "      <td>120.0</td>\n",
       "      <td>240</td>\n",
       "      <td>160</td>\n",
       "      <td>670</td>\n",
       "      <td>云南省</td>\n",
       "      <td>11.14</td>\n",
       "    </tr>\n",
       "  </tbody>\n",
       "</table>\n",
       "</div>"
      ],
      "text/plain": [
       "   用户名  年龄  家居家电     美妆   服装   食品  成交总金额   省份   成交时间\n",
       "0   小胡  35   140    0.0  580  160    880  湖南省  11.11\n",
       "1   小楠  19    40  120.0  230   90    480  湖南省  11.13\n",
       "2   小刘  27    30  340.0  690  230   1290  湖南省  11.15\n",
       "3   小赵  23     0    NaN  320  190    870  湖南省  11.11\n",
       "4   小孙  43   120  260.0  450  140    970  湖南省  11.12\n",
       "5   小珊  24    50  540.0  790  180   1560  山东省  11.14\n",
       "6   小东  42   340  230.0  450    0   1120  山东省  11.14\n",
       "7   小李  28  1210    0.0  960  250   2420  山东省  11.13\n",
       "8   小王  25   130  340.0  650  230   1350  山东省  11.11\n",
       "9   小张  18   100  240.0  290  180    810  山东省  11.13\n",
       "10  小杨  23   110  270.0  190  140    710  湖北省  11.12\n",
       "11  小千  19    80  120.0  200  130    530  湖北省  11.13\n",
       "12  小西  34     0  320.0  210  180    710  湖北省  11.11\n",
       "13  小胡  46   220  140.0  350  130    840  湖北省  11.11\n",
       "14  小虎  28   100  230.0  430  120    880  湖北省  11.15\n",
       "15  小云  20   250  180.0  240  120    790  云南省  11.11\n",
       "16  小南  36    50  100.0   90   80    320  云南省  11.12\n",
       "17  小周  39   160  100.0   90  100    450  云南省  11.11\n",
       "18  小钱  25   110  170.0  350  240    870  云南省  11.15\n",
       "19  小吴  43   150  120.0  240  160    670  云南省  11.14"
      ]
     },
     "execution_count": 7,
     "metadata": {},
     "output_type": "execute_result"
    }
   ],
   "source": [
    "data2"
   ]
  },
  {
   "cell_type": "code",
   "execution_count": null,
   "metadata": {},
   "outputs": [],
   "source": [
    "##相对路径\n",
    "##绝对路径"
   ]
  },
  {
   "cell_type": "code",
   "execution_count": 13,
   "metadata": {},
   "outputs": [],
   "source": [
    "name = ['用户名','年龄','省份','成交总金额','成交时间']\n",
    "data = pd.concat([data1[name],data2[name]],axis=0)"
   ]
  },
  {
   "cell_type": "code",
   "execution_count": 44,
   "metadata": {
    "collapsed": true
   },
   "outputs": [
    {
     "data": {
      "text/html": [
       "<div>\n",
       "<style scoped>\n",
       "    .dataframe tbody tr th:only-of-type {\n",
       "        vertical-align: middle;\n",
       "    }\n",
       "\n",
       "    .dataframe tbody tr th {\n",
       "        vertical-align: top;\n",
       "    }\n",
       "\n",
       "    .dataframe thead th {\n",
       "        text-align: right;\n",
       "    }\n",
       "</style>\n",
       "<table border=\"1\" class=\"dataframe\">\n",
       "  <thead>\n",
       "    <tr style=\"text-align: right;\">\n",
       "      <th></th>\n",
       "      <th>年龄</th>\n",
       "      <th>省份</th>\n",
       "    </tr>\n",
       "  </thead>\n",
       "  <tbody>\n",
       "    <tr>\n",
       "      <th>2</th>\n",
       "      <td>20</td>\n",
       "      <td>广东省</td>\n",
       "    </tr>\n",
       "    <tr>\n",
       "      <th>3</th>\n",
       "      <td>35</td>\n",
       "      <td>广东省</td>\n",
       "    </tr>\n",
       "  </tbody>\n",
       "</table>\n",
       "</div>"
      ],
      "text/plain": [
       "   年龄   省份\n",
       "2  20  广东省\n",
       "3  35  广东省"
      ]
     },
     "execution_count": 44,
     "metadata": {},
     "output_type": "execute_result"
    }
   ],
   "source": [
    "##iloc只能通过位置编号取数据  对于列索引 去首不取尾\n",
    "##loc 只能通过位置标签取数据 对于列索引 取首取尾\n",
    "data.iloc[2:4,1:3]"
   ]
  },
  {
   "cell_type": "code",
   "execution_count": 42,
   "metadata": {
    "collapsed": true
   },
   "outputs": [
    {
     "data": {
      "text/html": [
       "<div>\n",
       "<style scoped>\n",
       "    .dataframe tbody tr th:only-of-type {\n",
       "        vertical-align: middle;\n",
       "    }\n",
       "\n",
       "    .dataframe tbody tr th {\n",
       "        vertical-align: top;\n",
       "    }\n",
       "\n",
       "    .dataframe thead th {\n",
       "        text-align: right;\n",
       "    }\n",
       "</style>\n",
       "<table border=\"1\" class=\"dataframe\">\n",
       "  <thead>\n",
       "    <tr style=\"text-align: right;\">\n",
       "      <th></th>\n",
       "      <th>用户名</th>\n",
       "      <th>年龄</th>\n",
       "      <th>省份</th>\n",
       "    </tr>\n",
       "  </thead>\n",
       "  <tbody>\n",
       "    <tr>\n",
       "      <th>3</th>\n",
       "      <td>小胖</td>\n",
       "      <td>35</td>\n",
       "      <td>广东省</td>\n",
       "    </tr>\n",
       "    <tr>\n",
       "      <th>4</th>\n",
       "      <td>小亮</td>\n",
       "      <td>42</td>\n",
       "      <td>广东省</td>\n",
       "    </tr>\n",
       "    <tr>\n",
       "      <th>5</th>\n",
       "      <td>小四</td>\n",
       "      <td>34</td>\n",
       "      <td>四川省</td>\n",
       "    </tr>\n",
       "    <tr>\n",
       "      <th>6</th>\n",
       "      <td>小川</td>\n",
       "      <td>41</td>\n",
       "      <td>四川省</td>\n",
       "    </tr>\n",
       "  </tbody>\n",
       "</table>\n",
       "</div>"
      ],
      "text/plain": [
       "  用户名  年龄   省份\n",
       "3  小胖  35  广东省\n",
       "4  小亮  42  广东省\n",
       "5  小四  34  四川省\n",
       "6  小川  41  四川省"
      ]
     },
     "execution_count": 42,
     "metadata": {},
     "output_type": "execute_result"
    }
   ],
   "source": [
    "data.loc[3:6,'用户名':'省份']"
   ]
  },
  {
   "cell_type": "code",
   "execution_count": 43,
   "metadata": {
    "collapsed": true
   },
   "outputs": [
    {
     "data": {
      "text/html": [
       "<div>\n",
       "<style scoped>\n",
       "    .dataframe tbody tr th:only-of-type {\n",
       "        vertical-align: middle;\n",
       "    }\n",
       "\n",
       "    .dataframe tbody tr th {\n",
       "        vertical-align: top;\n",
       "    }\n",
       "\n",
       "    .dataframe thead th {\n",
       "        text-align: right;\n",
       "    }\n",
       "</style>\n",
       "<table border=\"1\" class=\"dataframe\">\n",
       "  <thead>\n",
       "    <tr style=\"text-align: right;\">\n",
       "      <th></th>\n",
       "      <th>用户名</th>\n",
       "      <th>年龄</th>\n",
       "      <th>省份</th>\n",
       "      <th>成交总金额</th>\n",
       "      <th>成交时间</th>\n",
       "    </tr>\n",
       "  </thead>\n",
       "  <tbody>\n",
       "    <tr>\n",
       "      <th>0</th>\n",
       "      <td>小广</td>\n",
       "      <td>19</td>\n",
       "      <td>广东省</td>\n",
       "      <td>460.0</td>\n",
       "      <td>11.11</td>\n",
       "    </tr>\n",
       "    <tr>\n",
       "      <th>1</th>\n",
       "      <td>小董</td>\n",
       "      <td>26</td>\n",
       "      <td>广东省</td>\n",
       "      <td>670.0</td>\n",
       "      <td>11.13</td>\n",
       "    </tr>\n",
       "    <tr>\n",
       "      <th>2</th>\n",
       "      <td>小易</td>\n",
       "      <td>20</td>\n",
       "      <td>广东省</td>\n",
       "      <td>NaN</td>\n",
       "      <td>11.15</td>\n",
       "    </tr>\n",
       "    <tr>\n",
       "      <th>3</th>\n",
       "      <td>小胖</td>\n",
       "      <td>35</td>\n",
       "      <td>广东省</td>\n",
       "      <td>690.0</td>\n",
       "      <td>11.11</td>\n",
       "    </tr>\n",
       "    <tr>\n",
       "      <th>4</th>\n",
       "      <td>小亮</td>\n",
       "      <td>42</td>\n",
       "      <td>广东省</td>\n",
       "      <td>380.0</td>\n",
       "      <td>11.12</td>\n",
       "    </tr>\n",
       "    <tr>\n",
       "      <th>5</th>\n",
       "      <td>小四</td>\n",
       "      <td>34</td>\n",
       "      <td>四川省</td>\n",
       "      <td>1230.0</td>\n",
       "      <td>11.14</td>\n",
       "    </tr>\n",
       "    <tr>\n",
       "      <th>6</th>\n",
       "      <td>小川</td>\n",
       "      <td>41</td>\n",
       "      <td>四川省</td>\n",
       "      <td>650.0</td>\n",
       "      <td>11.14</td>\n",
       "    </tr>\n",
       "    <tr>\n",
       "      <th>7</th>\n",
       "      <td>小秦</td>\n",
       "      <td>27</td>\n",
       "      <td>四川省</td>\n",
       "      <td>580.0</td>\n",
       "      <td>11.13</td>\n",
       "    </tr>\n",
       "    <tr>\n",
       "      <th>8</th>\n",
       "      <td>小岳</td>\n",
       "      <td>22</td>\n",
       "      <td>四川省</td>\n",
       "      <td>870.0</td>\n",
       "      <td>11.11</td>\n",
       "    </tr>\n",
       "    <tr>\n",
       "      <th>9</th>\n",
       "      <td>小于</td>\n",
       "      <td>24</td>\n",
       "      <td>四川省</td>\n",
       "      <td>900.0</td>\n",
       "      <td>11.13</td>\n",
       "    </tr>\n",
       "    <tr>\n",
       "      <th>10</th>\n",
       "      <td>小云</td>\n",
       "      <td>20</td>\n",
       "      <td>云南省</td>\n",
       "      <td>790.0</td>\n",
       "      <td>11.12</td>\n",
       "    </tr>\n",
       "    <tr>\n",
       "      <th>11</th>\n",
       "      <td>小南</td>\n",
       "      <td>36</td>\n",
       "      <td>云南省</td>\n",
       "      <td>320.0</td>\n",
       "      <td>11.13</td>\n",
       "    </tr>\n",
       "    <tr>\n",
       "      <th>12</th>\n",
       "      <td>小周</td>\n",
       "      <td>39</td>\n",
       "      <td>云南省</td>\n",
       "      <td>450.0</td>\n",
       "      <td>11.11</td>\n",
       "    </tr>\n",
       "    <tr>\n",
       "      <th>13</th>\n",
       "      <td>小钱</td>\n",
       "      <td>25</td>\n",
       "      <td>云南省</td>\n",
       "      <td>870.0</td>\n",
       "      <td>11.11</td>\n",
       "    </tr>\n",
       "    <tr>\n",
       "      <th>14</th>\n",
       "      <td>小吴</td>\n",
       "      <td>43</td>\n",
       "      <td>云南省</td>\n",
       "      <td>670.0</td>\n",
       "      <td>11.15</td>\n",
       "    </tr>\n",
       "    <tr>\n",
       "      <th>15</th>\n",
       "      <td>小红</td>\n",
       "      <td>19</td>\n",
       "      <td>广西省</td>\n",
       "      <td>470.0</td>\n",
       "      <td>11.11</td>\n",
       "    </tr>\n",
       "    <tr>\n",
       "      <th>16</th>\n",
       "      <td>小刚</td>\n",
       "      <td>34</td>\n",
       "      <td>广西省</td>\n",
       "      <td>260.0</td>\n",
       "      <td>11.12</td>\n",
       "    </tr>\n",
       "    <tr>\n",
       "      <th>17</th>\n",
       "      <td>小丽</td>\n",
       "      <td>24</td>\n",
       "      <td>广西省</td>\n",
       "      <td>540.0</td>\n",
       "      <td>11.11</td>\n",
       "    </tr>\n",
       "    <tr>\n",
       "      <th>18</th>\n",
       "      <td>小图</td>\n",
       "      <td>42</td>\n",
       "      <td>广西省</td>\n",
       "      <td>220.0</td>\n",
       "      <td>11.15</td>\n",
       "    </tr>\n",
       "    <tr>\n",
       "      <th>19</th>\n",
       "      <td>小壮</td>\n",
       "      <td>20</td>\n",
       "      <td>广西省</td>\n",
       "      <td>430.0</td>\n",
       "      <td>11.14</td>\n",
       "    </tr>\n",
       "    <tr>\n",
       "      <th>20</th>\n",
       "      <td>小胡</td>\n",
       "      <td>35</td>\n",
       "      <td>湖南省</td>\n",
       "      <td>880.0</td>\n",
       "      <td>11.11</td>\n",
       "    </tr>\n",
       "    <tr>\n",
       "      <th>21</th>\n",
       "      <td>小楠</td>\n",
       "      <td>19</td>\n",
       "      <td>湖南省</td>\n",
       "      <td>480.0</td>\n",
       "      <td>11.13</td>\n",
       "    </tr>\n",
       "    <tr>\n",
       "      <th>22</th>\n",
       "      <td>小刘</td>\n",
       "      <td>27</td>\n",
       "      <td>湖南省</td>\n",
       "      <td>1290.0</td>\n",
       "      <td>11.15</td>\n",
       "    </tr>\n",
       "    <tr>\n",
       "      <th>23</th>\n",
       "      <td>小赵</td>\n",
       "      <td>23</td>\n",
       "      <td>湖南省</td>\n",
       "      <td>870.0</td>\n",
       "      <td>11.11</td>\n",
       "    </tr>\n",
       "    <tr>\n",
       "      <th>24</th>\n",
       "      <td>小孙</td>\n",
       "      <td>43</td>\n",
       "      <td>湖南省</td>\n",
       "      <td>970.0</td>\n",
       "      <td>11.12</td>\n",
       "    </tr>\n",
       "    <tr>\n",
       "      <th>25</th>\n",
       "      <td>小珊</td>\n",
       "      <td>24</td>\n",
       "      <td>山东省</td>\n",
       "      <td>1560.0</td>\n",
       "      <td>11.14</td>\n",
       "    </tr>\n",
       "    <tr>\n",
       "      <th>26</th>\n",
       "      <td>小东</td>\n",
       "      <td>42</td>\n",
       "      <td>山东省</td>\n",
       "      <td>1120.0</td>\n",
       "      <td>11.14</td>\n",
       "    </tr>\n",
       "    <tr>\n",
       "      <th>27</th>\n",
       "      <td>小李</td>\n",
       "      <td>28</td>\n",
       "      <td>山东省</td>\n",
       "      <td>2420.0</td>\n",
       "      <td>11.13</td>\n",
       "    </tr>\n",
       "    <tr>\n",
       "      <th>28</th>\n",
       "      <td>小王</td>\n",
       "      <td>25</td>\n",
       "      <td>山东省</td>\n",
       "      <td>1350.0</td>\n",
       "      <td>11.11</td>\n",
       "    </tr>\n",
       "    <tr>\n",
       "      <th>29</th>\n",
       "      <td>小张</td>\n",
       "      <td>18</td>\n",
       "      <td>山东省</td>\n",
       "      <td>810.0</td>\n",
       "      <td>11.13</td>\n",
       "    </tr>\n",
       "    <tr>\n",
       "      <th>30</th>\n",
       "      <td>小杨</td>\n",
       "      <td>23</td>\n",
       "      <td>湖北省</td>\n",
       "      <td>710.0</td>\n",
       "      <td>11.12</td>\n",
       "    </tr>\n",
       "    <tr>\n",
       "      <th>31</th>\n",
       "      <td>小千</td>\n",
       "      <td>19</td>\n",
       "      <td>湖北省</td>\n",
       "      <td>530.0</td>\n",
       "      <td>11.13</td>\n",
       "    </tr>\n",
       "    <tr>\n",
       "      <th>32</th>\n",
       "      <td>小西</td>\n",
       "      <td>34</td>\n",
       "      <td>湖北省</td>\n",
       "      <td>710.0</td>\n",
       "      <td>11.11</td>\n",
       "    </tr>\n",
       "    <tr>\n",
       "      <th>33</th>\n",
       "      <td>小胡</td>\n",
       "      <td>46</td>\n",
       "      <td>湖北省</td>\n",
       "      <td>840.0</td>\n",
       "      <td>11.11</td>\n",
       "    </tr>\n",
       "    <tr>\n",
       "      <th>34</th>\n",
       "      <td>小虎</td>\n",
       "      <td>28</td>\n",
       "      <td>湖北省</td>\n",
       "      <td>880.0</td>\n",
       "      <td>11.15</td>\n",
       "    </tr>\n",
       "    <tr>\n",
       "      <th>35</th>\n",
       "      <td>小云</td>\n",
       "      <td>20</td>\n",
       "      <td>云南省</td>\n",
       "      <td>790.0</td>\n",
       "      <td>11.11</td>\n",
       "    </tr>\n",
       "    <tr>\n",
       "      <th>36</th>\n",
       "      <td>小南</td>\n",
       "      <td>36</td>\n",
       "      <td>云南省</td>\n",
       "      <td>320.0</td>\n",
       "      <td>11.12</td>\n",
       "    </tr>\n",
       "    <tr>\n",
       "      <th>37</th>\n",
       "      <td>小周</td>\n",
       "      <td>39</td>\n",
       "      <td>云南省</td>\n",
       "      <td>450.0</td>\n",
       "      <td>11.11</td>\n",
       "    </tr>\n",
       "    <tr>\n",
       "      <th>38</th>\n",
       "      <td>小钱</td>\n",
       "      <td>25</td>\n",
       "      <td>云南省</td>\n",
       "      <td>870.0</td>\n",
       "      <td>11.15</td>\n",
       "    </tr>\n",
       "    <tr>\n",
       "      <th>39</th>\n",
       "      <td>小吴</td>\n",
       "      <td>43</td>\n",
       "      <td>云南省</td>\n",
       "      <td>670.0</td>\n",
       "      <td>11.14</td>\n",
       "    </tr>\n",
       "  </tbody>\n",
       "</table>\n",
       "</div>"
      ],
      "text/plain": [
       "   用户名  年龄   省份   成交总金额   成交时间\n",
       "0   小广  19  广东省   460.0  11.11\n",
       "1   小董  26  广东省   670.0  11.13\n",
       "2   小易  20  广东省     NaN  11.15\n",
       "3   小胖  35  广东省   690.0  11.11\n",
       "4   小亮  42  广东省   380.0  11.12\n",
       "5   小四  34  四川省  1230.0  11.14\n",
       "6   小川  41  四川省   650.0  11.14\n",
       "7   小秦  27  四川省   580.0  11.13\n",
       "8   小岳  22  四川省   870.0  11.11\n",
       "9   小于  24  四川省   900.0  11.13\n",
       "10  小云  20  云南省   790.0  11.12\n",
       "11  小南  36  云南省   320.0  11.13\n",
       "12  小周  39  云南省   450.0  11.11\n",
       "13  小钱  25  云南省   870.0  11.11\n",
       "14  小吴  43  云南省   670.0  11.15\n",
       "15  小红  19  广西省   470.0  11.11\n",
       "16  小刚  34  广西省   260.0  11.12\n",
       "17  小丽  24  广西省   540.0  11.11\n",
       "18  小图  42  广西省   220.0  11.15\n",
       "19  小壮  20  广西省   430.0  11.14\n",
       "20  小胡  35  湖南省   880.0  11.11\n",
       "21  小楠  19  湖南省   480.0  11.13\n",
       "22  小刘  27  湖南省  1290.0  11.15\n",
       "23  小赵  23  湖南省   870.0  11.11\n",
       "24  小孙  43  湖南省   970.0  11.12\n",
       "25  小珊  24  山东省  1560.0  11.14\n",
       "26  小东  42  山东省  1120.0  11.14\n",
       "27  小李  28  山东省  2420.0  11.13\n",
       "28  小王  25  山东省  1350.0  11.11\n",
       "29  小张  18  山东省   810.0  11.13\n",
       "30  小杨  23  湖北省   710.0  11.12\n",
       "31  小千  19  湖北省   530.0  11.13\n",
       "32  小西  34  湖北省   710.0  11.11\n",
       "33  小胡  46  湖北省   840.0  11.11\n",
       "34  小虎  28  湖北省   880.0  11.15\n",
       "35  小云  20  云南省   790.0  11.11\n",
       "36  小南  36  云南省   320.0  11.12\n",
       "37  小周  39  云南省   450.0  11.11\n",
       "38  小钱  25  云南省   870.0  11.15\n",
       "39  小吴  43  云南省   670.0  11.14"
      ]
     },
     "execution_count": 43,
     "metadata": {},
     "output_type": "execute_result"
    }
   ],
   "source": [
    "data"
   ]
  },
  {
   "cell_type": "code",
   "execution_count": 30,
   "metadata": {},
   "outputs": [],
   "source": [
    "import numpy as np\n",
    "data.index = np.arange(0,len(data))"
   ]
  },
  {
   "cell_type": "code",
   "execution_count": 46,
   "metadata": {
    "collapsed": true
   },
   "outputs": [
    {
     "data": {
      "text/plain": [
       "2    广东省\n",
       "3    广东省\n",
       "Name: 省份, dtype: object"
      ]
     },
     "execution_count": 46,
     "metadata": {},
     "output_type": "execute_result"
    }
   ],
   "source": [
    "data.loc[2:3,'省份']"
   ]
  },
  {
   "cell_type": "code",
   "execution_count": 36,
   "metadata": {
    "collapsed": true
   },
   "outputs": [
    {
     "data": {
      "text/html": [
       "<div>\n",
       "<style scoped>\n",
       "    .dataframe tbody tr th:only-of-type {\n",
       "        vertical-align: middle;\n",
       "    }\n",
       "\n",
       "    .dataframe tbody tr th {\n",
       "        vertical-align: top;\n",
       "    }\n",
       "\n",
       "    .dataframe thead th {\n",
       "        text-align: right;\n",
       "    }\n",
       "</style>\n",
       "<table border=\"1\" class=\"dataframe\">\n",
       "  <thead>\n",
       "    <tr style=\"text-align: right;\">\n",
       "      <th></th>\n",
       "      <th>年龄</th>\n",
       "      <th>省份</th>\n",
       "    </tr>\n",
       "  </thead>\n",
       "  <tbody>\n",
       "    <tr>\n",
       "      <th>2</th>\n",
       "      <td>20</td>\n",
       "      <td>广东省</td>\n",
       "    </tr>\n",
       "  </tbody>\n",
       "</table>\n",
       "</div>"
      ],
      "text/plain": [
       "   年龄   省份\n",
       "2  20  广东省"
      ]
     },
     "execution_count": 36,
     "metadata": {},
     "output_type": "execute_result"
    }
   ],
   "source": [
    "data.iloc[2:3,1:3]"
   ]
  },
  {
   "cell_type": "code",
   "execution_count": 49,
   "metadata": {},
   "outputs": [
    {
     "data": {
      "text/plain": [
       "{'word': '单词', 'red': '红色', 'yellow': '黄色'}"
      ]
     },
     "execution_count": 49,
     "metadata": {},
     "output_type": "execute_result"
    }
   ],
   "source": [
    "##字典\n",
    "a={'word':'单词','red':\"红色\",'yellow':'黄色'}\n",
    "a\n",
    "##添加上 orange 橙子"
   ]
  },
  {
   "cell_type": "code",
   "execution_count": 60,
   "metadata": {},
   "outputs": [
    {
     "data": {
      "text/plain": [
       "{'word': '单词', 'red': '红色', 'yellow': '黄色', 'orange': '橙子'}"
      ]
     },
     "execution_count": 60,
     "metadata": {},
     "output_type": "execute_result"
    }
   ],
   "source": [
    "a['orange'] = '橙子'\n",
    "a"
   ]
  },
  {
   "cell_type": "code",
   "execution_count": 63,
   "metadata": {},
   "outputs": [],
   "source": [
    "##把dict里面的的orange换成橙色\n",
    "a['orange'] = '橙色'"
   ]
  },
  {
   "cell_type": "code",
   "execution_count": 64,
   "metadata": {},
   "outputs": [
    {
     "data": {
      "text/plain": [
       "{'word': '单词', 'red': '红色', 'yellow': '黄色', 'orange': '橙色'}"
      ]
     },
     "execution_count": 64,
     "metadata": {},
     "output_type": "execute_result"
    }
   ],
   "source": [
    "a"
   ]
  },
  {
   "cell_type": "code",
   "execution_count": null,
   "metadata": {},
   "outputs": [],
   "source": [
    "for"
   ]
  },
  {
   "cell_type": "code",
   "execution_count": 59,
   "metadata": {},
   "outputs": [
    {
     "ename": "AttributeError",
     "evalue": "'dict' object has no attribute 'append'",
     "output_type": "error",
     "traceback": [
      "\u001b[1;31m---------------------------------------------------------------------------\u001b[0m",
      "\u001b[1;31mAttributeError\u001b[0m                            Traceback (most recent call last)",
      "\u001b[1;32m<ipython-input-59-b1e0335d21fa>\u001b[0m in \u001b[0;36m<module>\u001b[1;34m\u001b[0m\n\u001b[1;32m----> 1\u001b[1;33m \u001b[0ma\u001b[0m\u001b[1;33m.\u001b[0m\u001b[0mappend\u001b[0m\u001b[1;33m(\u001b[0m\u001b[1;34m'orange'\u001b[0m\u001b[1;33m,\u001b[0m\u001b[1;34m'橙子'\u001b[0m\u001b[1;33m)\u001b[0m\u001b[1;33m\u001b[0m\u001b[1;33m\u001b[0m\u001b[0m\n\u001b[0m",
      "\u001b[1;31mAttributeError\u001b[0m: 'dict' object has no attribute 'append'"
     ]
    }
   ],
   "source": [
    "a.append('orange','橙子')"
   ]
  },
  {
   "cell_type": "code",
   "execution_count": null,
   "metadata": {},
   "outputs": [],
   "source": [
    "for ** in ???   "
   ]
  },
  {
   "cell_type": "code",
   "execution_count": null,
   "metadata": {},
   "outputs": [],
   "source": [
    "##不断的输入 如果输入是Y 就继续输入 如果是输入是N 则不再输入"
   ]
  },
  {
   "cell_type": "code",
   "execution_count": 66,
   "metadata": {},
   "outputs": [
    {
     "name": "stdout",
     "output_type": "stream",
     "text": [
      "Y/NY\n",
      "key blue\n",
      "value 蓝色\n",
      "{'word': '单词', 'red': '红色', 'yellow': '黄色', 'blue': '蓝色'}\n",
      "Y/NN\n"
     ]
    }
   ],
   "source": [
    "a={'word':'单词','red':\"红色\",'yellow':'黄色'}\n",
    "while True:\n",
    "    N=input('Y/N')\n",
    "    if N == 'Y':\n",
    "        one=input('key ')\n",
    "        two=input('value ')\n",
    "        a[one] = two\n",
    "        print(a)\n",
    "    if N == 'N':\n",
    "        break"
   ]
  },
  {
   "cell_type": "code",
   "execution_count": null,
   "metadata": {},
   "outputs": [],
   "source": [
    "5*x + 3*y + z/3 = 100"
   ]
  },
  {
   "cell_type": "code",
   "execution_count": 70,
   "metadata": {},
   "outputs": [
    {
     "name": "stdout",
     "output_type": "stream",
     "text": [
      "0 25 75\n",
      "4 18 78\n",
      "8 11 81\n",
      "12 4 84\n"
     ]
    }
   ],
   "source": [
    "for x in range(0,21):\n",
    "    for y in range(0,34):\n",
    "        for z in range(0,301):\n",
    "            if 5*x+3*y+(1/3)*z == 100 and x+y+z==100:\n",
    "                print(x,y,z)"
   ]
  },
  {
   "cell_type": "code",
   "execution_count": null,
   "metadata": {},
   "outputs": [],
   "source": [
    "x+y = 5\n",
    "x+2y = 10"
   ]
  },
  {
   "cell_type": "code",
   "execution_count": 68,
   "metadata": {},
   "outputs": [
    {
     "name": "stdout",
     "output_type": "stream",
     "text": [
      "Value1234\n"
     ]
    },
    {
     "data": {
      "text/plain": [
       "'1234'"
      ]
     },
     "execution_count": 68,
     "metadata": {},
     "output_type": "execute_result"
    }
   ],
   "source": [
    "input('Value')"
   ]
  },
  {
   "cell_type": "code",
   "execution_count": 55,
   "metadata": {},
   "outputs": [
    {
     "data": {
      "text/plain": [
       "dict_keys(['word', 'red', 'yellow'])"
      ]
     },
     "execution_count": 55,
     "metadata": {},
     "output_type": "execute_result"
    }
   ],
   "source": [
    "a.keys()"
   ]
  },
  {
   "cell_type": "code",
   "execution_count": 56,
   "metadata": {},
   "outputs": [
    {
     "data": {
      "text/plain": [
       "dict_values(['单词', '红色', '黄色'])"
      ]
     },
     "execution_count": 56,
     "metadata": {},
     "output_type": "execute_result"
    }
   ],
   "source": [
    "a.values()"
   ]
  },
  {
   "cell_type": "code",
   "execution_count": 58,
   "metadata": {},
   "outputs": [],
   "source": [
    "if 'red' in a.values():\n",
    "    print('存在')"
   ]
  },
  {
   "cell_type": "code",
   "execution_count": 54,
   "metadata": {},
   "outputs": [
    {
     "name": "stdout",
     "output_type": "stream",
     "text": [
      "No\n"
     ]
    }
   ],
   "source": [
    "list_one = [1,2,3,4,5]\n",
    "if 6 in list_one:\n",
    "    print('存在')\n",
    "else:\n",
    "    print('No')"
   ]
  },
  {
   "cell_type": "code",
   "execution_count": null,
   "metadata": {},
   "outputs": [],
   "source": [
    "##列表"
   ]
  },
  {
   "cell_type": "code",
   "execution_count": null,
   "metadata": {},
   "outputs": [],
   "source": [
    "##元组"
   ]
  }
 ],
 "metadata": {
  "kernelspec": {
   "display_name": "Python 3",
   "language": "python",
   "name": "python3"
  },
  "language_info": {
   "codemirror_mode": {
    "name": "ipython",
    "version": 3
   },
   "file_extension": ".py",
   "mimetype": "text/x-python",
   "name": "python",
   "nbconvert_exporter": "python",
   "pygments_lexer": "ipython3",
   "version": "3.7.6"
  }
 },
 "nbformat": 4,
 "nbformat_minor": 4
}
