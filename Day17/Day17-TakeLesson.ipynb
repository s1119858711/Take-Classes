{
 "cells": [
  {
   "cell_type": "markdown",
   "metadata": {},
   "source": [
    "## 模仿上学的过程,查看每天迟到的人数\n",
    "\n",
    "### 初等--骑车子上学\n",
    "\n",
    "> 故事背景: 小明早上去上学,从家出发的时间在7:32-7:35这个区间内.这五分钟之内,小明均等可能性的从家骑车子出发去学校.\n",
    "\n",
    "> 假设他需要一般15min才能到达学校,但是由于路上堵塞或者顺风逆风等元素,小明有可能早于10min到达,也有可能晚于10min,因此假设小明在路上的骑行时间服从均值为15,方差为4的正态分布.\n",
    "\n",
    "> 令学校规定学生必须在7:50之前进校门,那么问,小明一个月30天中,会迟到几次?  一年12个月中,会迟到几次?(假设每个月都是30天)"
   ]
  },
  {
   "cell_type": "code",
   "execution_count": 1,
   "metadata": {},
   "outputs": [],
   "source": [
    "##导入数值计算库\n",
    "import numpy as np"
   ]
  },
  {
   "cell_type": "code",
   "execution_count": 2,
   "metadata": {},
   "outputs": [
    {
     "data": {
      "text/plain": [
       "0"
      ]
     },
     "execution_count": 2,
     "metadata": {},
     "output_type": "execute_result"
    }
   ],
   "source": [
    "##对每个月的计算\n",
    "\n",
    "##生成出发的时间\n",
    "leave_time_start = 32\n",
    "leave_time_end = 35\n",
    "leave_time = list(map(int,np.random.uniform(leave_time_start,leave_time_end,30)))\n",
    "\n",
    "##生成路上的用时\n",
    "ride_mean = 15\n",
    "sigma = 2**0.5\n",
    "ride_time = list(map(int,np.random.normal(ride_mean,sigma,30)))\n",
    "\n",
    "##计算到达时间\n",
    "arrive_time = np.array(leave_time) + np.array(ride_time) \n",
    "\n",
    "##\n",
    "(arrive_time > 50).sum()"
   ]
  },
  {
   "cell_type": "code",
   "execution_count": 3,
   "metadata": {},
   "outputs": [],
   "source": [
    "def compute_time_one():\n",
    "    ##生成出发的时间\n",
    "    leave_time_start = 32\n",
    "    leave_time_end = 35\n",
    "    leave_time = list(map(int,np.random.uniform(leave_time_start,leave_time_end,30)))\n",
    "\n",
    "    ##生成路上的用时\n",
    "    ride_mean = 15\n",
    "    sigma = 2**0.5\n",
    "    ride_time = list(map(int,np.random.normal(ride_mean,sigma,30)))\n",
    "\n",
    "    ##计算到达时间\n",
    "    arrive_time = np.array(leave_time) + np.array(ride_time) \n",
    "\n",
    "    ##\n",
    "    return((arrive_time > 50).sum())"
   ]
  },
  {
   "cell_type": "code",
   "execution_count": 4,
   "metadata": {},
   "outputs": [
    {
     "name": "stdout",
     "output_type": "stream",
     "text": [
      "1月份要迟到2次\n",
      "2月份要迟到0次\n",
      "3月份要迟到4次\n",
      "4月份要迟到0次\n",
      "5月份要迟到1次\n",
      "6月份要迟到0次\n",
      "7月份要迟到0次\n",
      "8月份要迟到1次\n",
      "9月份要迟到0次\n",
      "10月份要迟到1次\n",
      "11月份要迟到1次\n",
      "12月份要迟到0次\n"
     ]
    }
   ],
   "source": [
    "for i in range(12):\n",
    "    print('{}月份要迟到{}次'.format(i+1,compute_time_one()))"
   ]
  },
  {
   "cell_type": "markdown",
   "metadata": {},
   "source": [
    "### 中等--坐公交上学\n",
    "\n",
    "> 故事背景: 小明早上去上学,从家出发的时间在7:32-7:35这个区间内.这五分钟之内,小明均等可能性的从家步行出发去公交站.\n",
    "\n",
    "> 假设他需要一般3min才能到达公交站,但是由于路上堵塞或者顺风逆风等元素,小明有可能早于3min到达,也有可能晚于3min,因此假设小明在路上步行的时间满足均值为3,方差为1的正态分布.\n",
    "\n",
    "> 假设小明到达公交车站直接就可以上车,没有等待时间. 公交车在路上时间是服从均值为10,方差为2的正态分布\n",
    "\n",
    "> 令学校规定学生必须在7:50之前进校门,那么问,小明一个月30天中,会迟到几次?  一年12个月中,会迟到几次?(假设每个月都是30天)"
   ]
  },
  {
   "cell_type": "code",
   "execution_count": 5,
   "metadata": {},
   "outputs": [],
   "source": [
    "def compute_time_two():\n",
    "    ##生成出发的时间\n",
    "    leave_time_start = 32\n",
    "    leave_time_end = 35\n",
    "    leave_time = list(map(int,np.random.uniform(leave_time_start,leave_time_end,30)))\n",
    "\n",
    "    ##生成路上的用时\n",
    "    walk_mean = 3 \n",
    "    sigma = 1**0.5\n",
    "    walk_time = list(map(int,np.random.normal(walk_mean,sigma,30)))\n",
    "    \n",
    "    ##生成路上的用时\n",
    "    bus_mean = 10\n",
    "    sigma = 2**0.5\n",
    "    bus_time = list(map(int,np.random.normal(bus_mean,sigma,30)))\n",
    "\n",
    "    ##计算到达时间\n",
    "    arrive_time = np.array(leave_time) + np.array(walk_time) + np.array(bus_time) \n",
    "\n",
    "    ##\n",
    "    return((arrive_time > 50).sum())"
   ]
  },
  {
   "cell_type": "code",
   "execution_count": 6,
   "metadata": {},
   "outputs": [
    {
     "name": "stdout",
     "output_type": "stream",
     "text": [
      "1月份要迟到0次\n",
      "2月份要迟到0次\n",
      "3月份要迟到0次\n",
      "4月份要迟到0次\n",
      "5月份要迟到0次\n",
      "6月份要迟到0次\n",
      "7月份要迟到0次\n",
      "8月份要迟到0次\n",
      "9月份要迟到0次\n",
      "10月份要迟到0次\n",
      "11月份要迟到0次\n",
      "12月份要迟到0次\n"
     ]
    }
   ],
   "source": [
    "for i in range(12):\n",
    "    print('{}月份要迟到{}次'.format(i+1,compute_time_two()))"
   ]
  },
  {
   "cell_type": "markdown",
   "metadata": {},
   "source": [
    "### 高等--坐公交上学\n",
    "\n",
    "> 故事背景: 小明早上去上学,从家出发的时间在7:32-7:35这个区间内.这五分钟之内,小明均等可能性的从家步行出发去公交站.\n",
    "\n",
    "> 假设他需要一般3min才能到达公交站,但是由于路上堵塞或者顺风逆风等元素,小明有可能早于3min到达,也有可能晚于3min,因此假设小明在路上步行的时间满足均值为3,方差为1的正态分布.\n",
    "\n",
    "> 公交车从6:00开始运营,到达公交车站是5min一班,公交车到站会停留1分钟,如果小明没能及时坐上公交,则需要等待下一班.\n",
    "\n",
    "> 公交车在路上时间是服从均值为10,方差为2的正态分布\n",
    "\n",
    "> 令学校规定学生必须在7:50之前进校门,那么问,小明一个月30天中,会迟到几次?  一年12个月中,会迟到几次?(假设每个月都是30天)"
   ]
  },
  {
   "cell_type": "code",
   "execution_count": 7,
   "metadata": {},
   "outputs": [],
   "source": [
    "##生成出发的时间\n",
    "def compute_time_three():\n",
    "    leave_time_start = 32\n",
    "    leave_time_end = 35\n",
    "    leave_time = list(map(int,np.random.uniform(leave_time_start,leave_time_end,30)))\n",
    "\n",
    "    ##生成路上的用时\n",
    "    walk_mean = 3 \n",
    "    sigma = 1**0.5\n",
    "    walk_time = list(map(int,np.random.normal(walk_mean,sigma,30)))\n",
    "\n",
    "    arrive_bus_station = np.array(leave_time) + np.array(walk_time)\n",
    "    ##计算上公交车的时间点\n",
    "    for i in range(len(arrive_bus_station)):\n",
    "        if arrive_bus_station[i]%5>1:\n",
    "            arrive_bus_station[i] += 5 - arrive_bus_station[i]%5 \n",
    "\n",
    "\n",
    "    ##生成路上的用时\n",
    "    bus_mean = 10\n",
    "    sigma = 2**0.5\n",
    "    bus_time = list(map(int,np.random.normal(bus_mean,sigma,30)))\n",
    "\n",
    "    return (np.array(arrive_bus_station) + np.array(bus_time) > 50).sum()"
   ]
  },
  {
   "cell_type": "code",
   "execution_count": 8,
   "metadata": {},
   "outputs": [
    {
     "name": "stdout",
     "output_type": "stream",
     "text": [
      "1月份要迟到5次\n",
      "2月份要迟到0次\n",
      "3月份要迟到0次\n",
      "4月份要迟到0次\n",
      "5月份要迟到0次\n",
      "6月份要迟到2次\n",
      "7月份要迟到4次\n",
      "8月份要迟到1次\n",
      "9月份要迟到1次\n",
      "10月份要迟到0次\n",
      "11月份要迟到0次\n",
      "12月份要迟到0次\n"
     ]
    }
   ],
   "source": [
    "for i in range(12):\n",
    "    print('{}月份要迟到{}次'.format(i+1,compute_time_three()))"
   ]
  },
  {
   "cell_type": "markdown",
   "metadata": {},
   "source": [
    "# Day17--作业\n",
    "\n",
    "## 把高等案例中的迟到次数 画出来~  折线图 +  散点图 "
   ]
  },
  {
   "cell_type": "code",
   "execution_count": null,
   "metadata": {},
   "outputs": [],
   "source": []
  }
 ],
 "metadata": {
  "kernelspec": {
   "display_name": "Python 3",
   "language": "python",
   "name": "python3"
  },
  "language_info": {
   "codemirror_mode": {
    "name": "ipython",
    "version": 3
   },
   "file_extension": ".py",
   "mimetype": "text/x-python",
   "name": "python",
   "nbconvert_exporter": "python",
   "pygments_lexer": "ipython3",
   "version": "3.8.3"
  }
 },
 "nbformat": 4,
 "nbformat_minor": 2
}
