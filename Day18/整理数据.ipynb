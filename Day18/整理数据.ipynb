{
 "cells": [
  {
   "cell_type": "code",
   "execution_count": 12,
   "metadata": {},
   "outputs": [],
   "source": [
    "import os\n",
    "os.chdir(r'E:\\Repo\\repo9-作业-345\\整理数据-40')\n",
    "import pandas as pd\n",
    "import numpy as np"
   ]
  },
  {
   "cell_type": "code",
   "execution_count": 46,
   "metadata": {},
   "outputs": [],
   "source": [
    "import matplotlib\n",
    "# 设置matplotlib正常显示中文和负号\n",
    "matplotlib.rcParams['font.sans-serif']=['SimHei']   # 用黑体显示中文\n",
    "matplotlib.rcParams['axes.unicode_minus']=False     # 正常显示负号"
   ]
  },
  {
   "cell_type": "code",
   "execution_count": 13,
   "metadata": {},
   "outputs": [],
   "source": [
    "jine = pd.read_excel('四省成交金额.xlsx')\n",
    "bili = pd.read_excel('四省商品比例.xlsx')"
   ]
  },
  {
   "cell_type": "code",
   "execution_count": 14,
   "metadata": {},
   "outputs": [],
   "source": [
    "name_columns = ['用户名','成交总金额','省份','年龄','成交时间']"
   ]
  },
  {
   "cell_type": "code",
   "execution_count": 15,
   "metadata": {
    "collapsed": true
   },
   "outputs": [
    {
     "data": {
      "text/html": [
       "<div>\n",
       "<style scoped>\n",
       "    .dataframe tbody tr th:only-of-type {\n",
       "        vertical-align: middle;\n",
       "    }\n",
       "\n",
       "    .dataframe tbody tr th {\n",
       "        vertical-align: top;\n",
       "    }\n",
       "\n",
       "    .dataframe thead th {\n",
       "        text-align: right;\n",
       "    }\n",
       "</style>\n",
       "<table border=\"1\" class=\"dataframe\">\n",
       "  <thead>\n",
       "    <tr style=\"text-align: right;\">\n",
       "      <th></th>\n",
       "      <th>用户名</th>\n",
       "      <th>成交总金额</th>\n",
       "      <th>省份</th>\n",
       "      <th>年龄</th>\n",
       "      <th>成交时间</th>\n",
       "    </tr>\n",
       "  </thead>\n",
       "  <tbody>\n",
       "    <tr>\n",
       "      <td>0</td>\n",
       "      <td>小广</td>\n",
       "      <td>460.0</td>\n",
       "      <td>广东省</td>\n",
       "      <td>19</td>\n",
       "      <td>11.11</td>\n",
       "    </tr>\n",
       "    <tr>\n",
       "      <td>1</td>\n",
       "      <td>小董</td>\n",
       "      <td>670.0</td>\n",
       "      <td>广东省</td>\n",
       "      <td>26</td>\n",
       "      <td>11.13</td>\n",
       "    </tr>\n",
       "    <tr>\n",
       "      <td>2</td>\n",
       "      <td>小易</td>\n",
       "      <td>NaN</td>\n",
       "      <td>广东省</td>\n",
       "      <td>20</td>\n",
       "      <td>11.15</td>\n",
       "    </tr>\n",
       "    <tr>\n",
       "      <td>3</td>\n",
       "      <td>小胖</td>\n",
       "      <td>690.0</td>\n",
       "      <td>广东省</td>\n",
       "      <td>35</td>\n",
       "      <td>11.11</td>\n",
       "    </tr>\n",
       "    <tr>\n",
       "      <td>4</td>\n",
       "      <td>小亮</td>\n",
       "      <td>380.0</td>\n",
       "      <td>广东省</td>\n",
       "      <td>42</td>\n",
       "      <td>11.12</td>\n",
       "    </tr>\n",
       "    <tr>\n",
       "      <td>5</td>\n",
       "      <td>小四</td>\n",
       "      <td>1230.0</td>\n",
       "      <td>四川省</td>\n",
       "      <td>34</td>\n",
       "      <td>11.14</td>\n",
       "    </tr>\n",
       "    <tr>\n",
       "      <td>6</td>\n",
       "      <td>小川</td>\n",
       "      <td>650.0</td>\n",
       "      <td>四川省</td>\n",
       "      <td>41</td>\n",
       "      <td>11.14</td>\n",
       "    </tr>\n",
       "    <tr>\n",
       "      <td>7</td>\n",
       "      <td>小秦</td>\n",
       "      <td>580.0</td>\n",
       "      <td>四川省</td>\n",
       "      <td>27</td>\n",
       "      <td>11.13</td>\n",
       "    </tr>\n",
       "    <tr>\n",
       "      <td>8</td>\n",
       "      <td>小岳</td>\n",
       "      <td>870.0</td>\n",
       "      <td>四川省</td>\n",
       "      <td>22</td>\n",
       "      <td>11.11</td>\n",
       "    </tr>\n",
       "    <tr>\n",
       "      <td>9</td>\n",
       "      <td>小于</td>\n",
       "      <td>900.0</td>\n",
       "      <td>四川省</td>\n",
       "      <td>24</td>\n",
       "      <td>11.13</td>\n",
       "    </tr>\n",
       "    <tr>\n",
       "      <td>10</td>\n",
       "      <td>小云</td>\n",
       "      <td>790.0</td>\n",
       "      <td>云南省</td>\n",
       "      <td>20</td>\n",
       "      <td>11.12</td>\n",
       "    </tr>\n",
       "    <tr>\n",
       "      <td>11</td>\n",
       "      <td>小南</td>\n",
       "      <td>320.0</td>\n",
       "      <td>云南省</td>\n",
       "      <td>36</td>\n",
       "      <td>11.13</td>\n",
       "    </tr>\n",
       "    <tr>\n",
       "      <td>12</td>\n",
       "      <td>小周</td>\n",
       "      <td>450.0</td>\n",
       "      <td>云南省</td>\n",
       "      <td>39</td>\n",
       "      <td>11.11</td>\n",
       "    </tr>\n",
       "    <tr>\n",
       "      <td>13</td>\n",
       "      <td>小钱</td>\n",
       "      <td>870.0</td>\n",
       "      <td>云南省</td>\n",
       "      <td>25</td>\n",
       "      <td>11.11</td>\n",
       "    </tr>\n",
       "    <tr>\n",
       "      <td>14</td>\n",
       "      <td>小吴</td>\n",
       "      <td>670.0</td>\n",
       "      <td>云南省</td>\n",
       "      <td>43</td>\n",
       "      <td>11.15</td>\n",
       "    </tr>\n",
       "    <tr>\n",
       "      <td>15</td>\n",
       "      <td>小红</td>\n",
       "      <td>470.0</td>\n",
       "      <td>广西省</td>\n",
       "      <td>19</td>\n",
       "      <td>11.11</td>\n",
       "    </tr>\n",
       "    <tr>\n",
       "      <td>16</td>\n",
       "      <td>小刚</td>\n",
       "      <td>260.0</td>\n",
       "      <td>广西省</td>\n",
       "      <td>34</td>\n",
       "      <td>11.12</td>\n",
       "    </tr>\n",
       "    <tr>\n",
       "      <td>17</td>\n",
       "      <td>小丽</td>\n",
       "      <td>540.0</td>\n",
       "      <td>广西省</td>\n",
       "      <td>24</td>\n",
       "      <td>11.11</td>\n",
       "    </tr>\n",
       "    <tr>\n",
       "      <td>18</td>\n",
       "      <td>小图</td>\n",
       "      <td>220.0</td>\n",
       "      <td>广西省</td>\n",
       "      <td>42</td>\n",
       "      <td>11.15</td>\n",
       "    </tr>\n",
       "    <tr>\n",
       "      <td>19</td>\n",
       "      <td>小壮</td>\n",
       "      <td>430.0</td>\n",
       "      <td>广西省</td>\n",
       "      <td>20</td>\n",
       "      <td>11.14</td>\n",
       "    </tr>\n",
       "  </tbody>\n",
       "</table>\n",
       "</div>"
      ],
      "text/plain": [
       "   用户名   成交总金额   省份  年龄   成交时间\n",
       "0   小广   460.0  广东省  19  11.11\n",
       "1   小董   670.0  广东省  26  11.13\n",
       "2   小易     NaN  广东省  20  11.15\n",
       "3   小胖   690.0  广东省  35  11.11\n",
       "4   小亮   380.0  广东省  42  11.12\n",
       "5   小四  1230.0  四川省  34  11.14\n",
       "6   小川   650.0  四川省  41  11.14\n",
       "7   小秦   580.0  四川省  27  11.13\n",
       "8   小岳   870.0  四川省  22  11.11\n",
       "9   小于   900.0  四川省  24  11.13\n",
       "10  小云   790.0  云南省  20  11.12\n",
       "11  小南   320.0  云南省  36  11.13\n",
       "12  小周   450.0  云南省  39  11.11\n",
       "13  小钱   870.0  云南省  25  11.11\n",
       "14  小吴   670.0  云南省  43  11.15\n",
       "15  小红   470.0  广西省  19  11.11\n",
       "16  小刚   260.0  广西省  34  11.12\n",
       "17  小丽   540.0  广西省  24  11.11\n",
       "18  小图   220.0  广西省  42  11.15\n",
       "19  小壮   430.0  广西省  20  11.14"
      ]
     },
     "execution_count": 15,
     "metadata": {},
     "output_type": "execute_result"
    }
   ],
   "source": [
    "jine[name_columns]"
   ]
  },
  {
   "cell_type": "code",
   "execution_count": 18,
   "metadata": {},
   "outputs": [],
   "source": [
    "#1.1\n",
    "data_pinjie = pd.concat([jine[name_columns],bili[name_columns]])\n",
    "data_pinjie.index = np.arange(0,len(data_pinjie))"
   ]
  },
  {
   "cell_type": "code",
   "execution_count": 25,
   "metadata": {},
   "outputs": [],
   "source": [
    "##1.2\n",
    "data_dropna = data_pinjie.dropna()"
   ]
  },
  {
   "cell_type": "code",
   "execution_count": 26,
   "metadata": {},
   "outputs": [],
   "source": [
    "##1.3\n",
    "data_dropna.to_excel('第一步拼接后的数据.xlsx',index=False,encoding='utf-8_sig')"
   ]
  },
  {
   "cell_type": "code",
   "execution_count": 36,
   "metadata": {},
   "outputs": [],
   "source": [
    "##2.1\n",
    "data_dropna.index = np.arange(0,len(data_dropna))\n",
    "zhifang1 = data_dropna.groupby('省份').sum()['成交总金额']\n",
    "zhifang2 = data_dropna.groupby('省份').mean()['成交总金额']"
   ]
  },
  {
   "cell_type": "code",
   "execution_count": 83,
   "metadata": {},
   "outputs": [
    {
     "data": {
      "text/plain": [
       "Text(0.5, 1.0, '总金额')"
      ]
     },
     "execution_count": 83,
     "metadata": {},
     "output_type": "execute_result"
    },
    {
     "data": {
      "image/png": "[encoded data removed]",
      "text/plain": [
       "<Figure size 432x288 with 1 Axes>"
      ]
     },
     "metadata": {
      "needs_background": "light"
     },
     "output_type": "display_data"
    }
   ],
   "source": [
    "import matplotlib.pyplot as plt\n",
    "plt.bar(zhifang1.index, zhifang1)\n",
    "plt.ylabel('成交总金额/元')\n",
    "plt.title('总金额')\n"
   ]
  },
  {
   "cell_type": "code",
   "execution_count": 82,
   "metadata": {},
   "outputs": [
    {
     "data": {
      "text/plain": [
       "Text(0.5, 1.0, '人均金额')"
      ]
     },
     "execution_count": 82,
     "metadata": {},
     "output_type": "execute_result"
    },
    {
     "data": {
      "image/png": "[encoded data removed]",
      "text/plain": [
       "<Figure size 432x288 with 1 Axes>"
      ]
     },
     "metadata": {
      "needs_background": "light"
     },
     "output_type": "display_data"
    }
   ],
   "source": [
    "plt.bar(zhifang2.index,zhifang2)\n",
    "plt.ylabel('人均成交金额/元')\n",
    "plt.title('人均金额')"
   ]
  },
  {
   "cell_type": "code",
   "execution_count": 57,
   "metadata": {},
   "outputs": [
    {
     "data": {
      "text/plain": [
       "-0.1234059673739997"
      ]
     },
     "execution_count": 57,
     "metadata": {},
     "output_type": "execute_result"
    }
   ],
   "source": [
    "##2.2\n",
    "data_dropna['年龄'].corr(data_dropna['成交总金额'])"
   ]
  },
  {
   "cell_type": "code",
   "execution_count": 80,
   "metadata": {},
   "outputs": [
    {
     "data": {
      "text/plain": [
       "Text(0.5, 1.0, '成交金额随时间变化')"
      ]
     },
     "execution_count": 80,
     "metadata": {},
     "output_type": "execute_result"
    },
    {
     "data": {
      "image/png": "[encoded data removed]",
      "text/plain": [
       "<Figure size 432x288 with 1 Axes>"
      ]
     },
     "metadata": {
      "needs_background": "light"
     },
     "output_type": "display_data"
    }
   ],
   "source": [
    "##2.3\n",
    "data_23 = data_dropna.groupby('成交时间').sum()['成交总金额']\n",
    "plt.plot(data_23)\n",
    "plt.xticks(data_23.index)\n",
    "plt.xlabel('日期')\n",
    "plt.ylabel('成交金额/元')\n",
    "plt.title('成交金额随时间变化')"
   ]
  },
  {
   "cell_type": "code",
   "execution_count": 72,
   "metadata": {
    "scrolled": true
   },
   "outputs": [],
   "source": [
    "##2.4\n",
    "name_list = ['家居家电','美妆','服装','食品']\n",
    "data_pie = bili[name_list]\n",
    "plt.figure(figsize=(6,9)) #调节图形大小\n",
    "labels = list(data_pie.sum().index) #定义标签\n",
    "sizes = list(data_pie.sum()) #每块值\n",
    "colors = ['red','yellowgreen','lightskyblue','yellow'] #每块颜色定义\n",
    "explode = (0,0,0,0) #将某一块分割出来，值越大分割出的间隙越大\n",
    "patches,text1,text2 = plt.pie(sizes,\n",
    "                      explode=explode,\n",
    "                      labels=labels,\n",
    "                      colors=colors,\n",
    "                      autopct = '%3.2f%%', #数值保留固定小数位\n",
    "                      shadow = False, #无阴影设置\n",
    "                      startangle =90, #逆时针起始角度设置\n",
    "                      pctdistance = 0.6) #数值距圆心半径倍数距离\n",
    "#patches饼图的返回值，texts1饼图外label的文本，texts2饼图内部的文本\n",
    "# x，y轴刻度设置一致，保证饼图为圆形\n",
    "plt.axis('equal')\n",
    "plt.show()"
   ]
  },
  {
   "cell_type": "code",
   "execution_count": null,
   "metadata": {},
   "outputs": [],
   "source": []
  }
 ],
 "metadata": {
  "kernelspec": {
   "display_name": "Python 3",
   "language": "python",
   "name": "python3"
  },
  "language_info": {
   "codemirror_mode": {
    "name": "ipython",
    "version": 3
   },
   "file_extension": ".py",
   "mimetype": "text/x-python",
   "name": "python",
   "nbconvert_exporter": "python",
   "pygments_lexer": "ipython3",
   "version": "3.7.4"
  }
 },
 "nbformat": 4,
 "nbformat_minor": 2
}
